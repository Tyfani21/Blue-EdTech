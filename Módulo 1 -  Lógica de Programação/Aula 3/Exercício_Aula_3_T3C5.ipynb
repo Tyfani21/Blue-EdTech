{
  "nbformat": 4,
  "nbformat_minor": 0,
  "metadata": {
    "colab": {
      "name": "Exercício Aula 3 T3C5",
      "provenance": []
    },
    "kernelspec": {
      "name": "python3",
      "display_name": "Python 3"
    },
    "language_info": {
      "name": "python"
    }
  },
  "cells": [
    {
      "cell_type": "markdown",
      "metadata": {
        "id": "HqGe28PqAboG"
      },
      "source": [
        "01 – Escreva um programa que deve receber o nome completo do usuário e retornar uma\n",
        "saudação com o nome no formato adequado (todas as primeiras letras em maiúsculas).\n"
      ]
    },
    {
      "cell_type": "code",
      "metadata": {
        "colab": {
          "base_uri": "https://localhost:8080/"
        },
        "id": "riA9329jAh7y",
        "outputId": "62f55c53-3c06-4a4d-95cd-8eda167974cf"
      },
      "source": [
        "nome= input(\"Digite seu nome completo: \").title()\n",
        "print(f'Bem vindo(a) {nome}!')\n",
        "\n",
        "### Outro jeito\n",
        "# nome= input(\"Digite seu nome completo: \")\n",
        "# print(f'Bem vindo(a) {nome.title()}!')\n",
        "\n"
      ],
      "execution_count": 3,
      "outputs": [
        {
          "output_type": "stream",
          "text": [
            "Digite seu nome completo: yago monteiro\n",
            "Bem vindo(a) Yago Monteiro!\n"
          ],
          "name": "stdout"
        }
      ]
    },
    {
      "cell_type": "markdown",
      "metadata": {
        "id": "I1nySRnwAd0b"
      },
      "source": [
        "02 - Escreva um programa que solicite uma frase ao usuário e escreva a frase toda em\n",
        "maiúscula e sem espaços em branco."
      ]
    },
    {
      "cell_type": "code",
      "metadata": {
        "colab": {
          "base_uri": "https://localhost:8080/"
        },
        "id": "45CTFYamBSZU",
        "outputId": "372cf995-410b-4ad2-ae9b-b8d4a0bd86c9"
      },
      "source": [
        "frase= input('Digite uma frase: ')\n",
        "print(frase.upper().replace(' ',''))"
      ],
      "execution_count": 11,
      "outputs": [
        {
          "output_type": "stream",
          "text": [
            "Digite uma frase: af    sdfgdsgsd    dgdg\n",
            "AFSDFGDSGSDDGDG\n"
          ],
          "name": "stdout"
        }
      ]
    },
    {
      "cell_type": "markdown",
      "metadata": {
        "id": "m3aZMRRJAgSw"
      },
      "source": [
        "03 – Faça um programa que solicite a altura e o peso do usuário, e calcule o seu IMC. Os\n",
        "dados entrados precisam ser corrigidos pelo programa (trocando “,” por “.” e eliminando\n",
        "espaços e letras extras)."
      ]
    },
    {
      "cell_type": "code",
      "metadata": {
        "colab": {
          "base_uri": "https://localhost:8080/"
        },
        "id": "ti7WaiqrEwP1",
        "outputId": "b0fa9a28-4eb7-487f-9206-78ceadbab10f"
      },
      "source": [
        "altura= float (input('Digite sua altura em metros:').lower().replace(\",\" , \".\").replace(\"m\" , \"\").replace(' ' , ''))\n",
        "peso= float (input('\\nDigite seu peso em Kg:').lower().replace(\",\" , \".\").replace(\"k\" , \"\").replace(\"g\" , \"\").replace(' ' , ''))\n",
        "\n",
        "imc= peso/(altura**2)\n",
        "\n",
        "print(f'\\nSeu IMC é {imc:.1f}')\n"
      ],
      "execution_count": 21,
      "outputs": [
        {
          "output_type": "stream",
          "text": [
            "Digite sua altura em metros:1 , 7 0 M\n",
            "\n",
            "Digite seu peso em Kg:8 0    Kg\n",
            "\n",
            "Seu IMC é 27.7\n"
          ],
          "name": "stdout"
        }
      ]
    }
  ]
}