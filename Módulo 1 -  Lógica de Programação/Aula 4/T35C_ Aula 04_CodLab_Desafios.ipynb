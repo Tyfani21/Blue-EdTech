{
  "nbformat": 4,
  "nbformat_minor": 0,
  "metadata": {
    "colab": {
      "name": "T35C CodLab 04 - Desafios.ipynb",
      "provenance": [],
      "collapsed_sections": []
    },
    "kernelspec": {
      "name": "python3",
      "display_name": "Python 3"
    },
    "language_info": {
      "name": "python"
    }
  },
  "cells": [
    {
      "cell_type": "markdown",
      "metadata": {
        "id": "NRhLAMa6ZfqU"
      },
      "source": [
        "## **DESAFIO 01**\n",
        "\n",
        "**Reajuste salarial**\n",
        "\n",
        "As empresas @.com resolveram dar um aumento de salário aos seus colaboradores e lhe contrataram para desenvolver o programa que calculará os reajustes.\n",
        "\n",
        "Faça um programa que recebe o salário de um colaborador e o reajuste segundo o seguinte critério, baseado no salário atual:\n",
        "* salários até R$ 280,00 (incluindo) : aumento de 20%\n",
        "\n",
        "* salários entre R\\$ 280,00 e R$ 700,00 : aumento de 15%\n",
        "\n",
        "* salários entre R\\$ 700,00 e R$ 1500,00 : aumento de 10%\n",
        "\n",
        "* salários de R$ 1500,00 em diante : aumento de 5% \n",
        "\n",
        "Após o aumento ser realizado, informe na tela:\n",
        "* o salário antes do reajuste;\n",
        "\n",
        "* o percentual de aumento aplicado;\n",
        "\n",
        "* o valor do aumento;\n",
        "\n",
        "* o novo salário, após o aumento.\""
      ]
    },
    {
      "cell_type": "code",
      "metadata": {
        "id": "VpC5oZINZXzt",
        "colab": {
          "base_uri": "https://localhost:8080/"
        },
        "outputId": "93cf328a-6ad9-46e0-e140-9dc4c9a536d4"
      },
      "source": [
        "salario= float (input('Entre com seu salário: R$ ').replace(',' , '.'))\n",
        "\n",
        "# percentuais\n",
        "\n",
        "if salario <= 280.00:\n",
        "  p=20\n",
        "  percentual = p1/100\n",
        "  aumento = (salario*percentual)\n",
        "  salarionovo = salario + aumento\n",
        "elif 280.01 <= salario <= 700.00:\n",
        "  p=15\n",
        "  percentual = p2/100\n",
        "  aumento = (salario*percentual)\n",
        "  salarionovo = salario + aumento\n",
        "elif 700.01 <= salario <= 1500.00:\n",
        "  p=10\n",
        "  percentual = p3/100\n",
        "  aumento = (salario*percentual)\n",
        "  salarionovo = salario + aumento\n",
        "elif salario >= 1500.01:\n",
        "  p=5\n",
        "  percentual = p4/100\n",
        "  aumento = (salario*percentual)\n",
        "  salarionovo = salario + aumento\n",
        "\n",
        "print(f'\\nSalario atual: R$ {salario}')\n",
        "print(f'Percentual de ajuste: {p}%')\n",
        "print(f'Valor do aumento: R$ {aumento} ')\n",
        "print(f'Salário novo com aumento: R$ {salarionovo} ')\n",
        "\n",
        "\n",
        "\n",
        "\n"
      ],
      "execution_count": null,
      "outputs": [
        {
          "output_type": "stream",
          "text": [
            "Entre com seu salário: R$ 1504\n",
            "\n",
            "Salario atual: R$ 1504.0\n",
            "Percentual de ajuste: 5%\n",
            "Valor do aumento: R$ 75.2 \n",
            "Salário novo com aumento: R$ 1579.2 \n"
          ],
          "name": "stdout"
        }
      ]
    },
    {
      "cell_type": "markdown",
      "metadata": {
        "id": "HvThpbU4aBGy"
      },
      "source": [
        "## **DESAFIO 02**\n",
        "\n",
        "**Jogo da adivinhação**\n",
        "\n",
        "Escreva um programa que faça o computador “pensar” em um número inteiro entre 0 e 10 e peça para o usuário tentar descobrir qual foi o número escolhido pelo computador. O programa deverá escrever na tela se o usuário venceu ou perdeu."
      ]
    },
    {
      "cell_type": "code",
      "metadata": {
        "id": "ufD4OzxkaN1X",
        "colab": {
          "base_uri": "https://localhost:8080/"
        },
        "outputId": "dfda771b-40ea-4de3-c9b9-1578bbe4f303"
      },
      "source": [
        "from random import randint\n",
        "\n",
        "x = randint(0,11)\n",
        "\n",
        "entrada= int (input('Pensei em um número, tente descobri-lo. Insira um número de 1 a 10: '))\n",
        "\n",
        "if entrada == x:\n",
        "  print(f'\\nParabéns!\\nPensei no número {x}. Você acertou!')\n",
        "else:\n",
        "  print(f'\\nVocê errou!\\nEu havia pensado no número {x}.' )  "
      ],
      "execution_count": null,
      "outputs": [
        {
          "output_type": "stream",
          "text": [
            "Pensei em um número, tente descobri-lo. Insira um número de 1 a 10: 5\n",
            "Você errou!\n",
            "Eu pensei no 8\n"
          ],
          "name": "stdout"
        }
      ]
    },
    {
      "cell_type": "markdown",
      "metadata": {
        "id": "mjLFAUooaOH1"
      },
      "source": [
        "## **Projeto da semana**\n",
        "\n",
        "**Caixa eletrônico**\n",
        "\n",
        "Faça um Programa para um caixa eletrônico. O programa deverá perguntar ao usuário a valor do saque e depois informar quantas notas de cada valor serão fornecidas. As notas disponíveis serão as de 1, 5, 10, 50 e 100 reais. O valor mínimo é de 10 reais e o máximo de 600 reais. O programa não deve se preocupar com a quantidade de notas existentes na máquina.\n",
        "\n",
        "* Exemplo 1: Para sacar a quantia de 256 reais, o programa fornece duas notas de 100, uma nota de 50, uma nota de 5 e uma nota de 1;\n",
        "\n",
        "* Exemplo 2: Para sacar a quantia de 399 reais, o programa fornece três notas de 100, uma nota de 50, quatro notas de 10, uma nota de 5 e quatro notas de 1.\n",
        "\n"
      ]
    },
    {
      "cell_type": "code",
      "metadata": {
        "id": "S7gbFodVawK1",
        "colab": {
          "base_uri": "https://localhost:8080/"
        },
        "outputId": "86bf5ded-b937-4ed5-8556-a9f2082f6db9"
      },
      "source": [
        "saque = int(input('Valor do saque [10-600]: R$ '))\n",
        "\n",
        "duzentos = saque//200\n",
        "cem = (saque%200)//100\n",
        "cinquenta = ((saque%200)%100)//50\n",
        "vinte = (((saque%200)%100)%50)//20\n",
        "dez = ((((saque%200)%100)%50)%20)//10\n",
        "cinco = (((((saque%200)%100)%50)%20)%10)//5\n",
        "dois = ((((((saque%200)%100)%50)%20)%10)%5)//2\n",
        "\n",
        "print()\n",
        "print ('-='*13)\n",
        "print(f'Você deseja sacar R$ {float(saque):.2f}.\\nE irá receber:')\n",
        "print ('--'*13)\n",
        "\n",
        "if duzentos != 0:\n",
        "  if duzentos > 1:\n",
        "    notas = \"notas\"\n",
        "  else:\n",
        "    texto = \"nota\"\n",
        "  print(f\"{duzentos} {notas} de R$ 200,00.\")\n",
        "\n",
        "if cem != 0:\n",
        "  if cem > 1:\n",
        "    notas = \"notas\"\n",
        "  else:\n",
        "    notas = \"nota\"\n",
        "  print(f\"{cem} {notas} de R$ 100,00.\")\n",
        "\n",
        "if cinquenta != 0:\n",
        "  if cinquenta > 1:\n",
        "    notas = \"notas\"\n",
        "  else:\n",
        "    notas = \"nota\"\n",
        "  print(f\"{cinquenta} {notas} de R$ 50,00.\")\n",
        "\n",
        "if vinte != 0:\n",
        "  if vinte > 1:\n",
        "    notas = \"notas\"\n",
        "  else:\n",
        "    notas = \"nota\"\n",
        "  print(f\"{vinte} {notas} de R$ 20,00.\")\n",
        "\n",
        "if dez != 0:\n",
        "  if dez > 1:\n",
        "    notas = \"notas\"\n",
        "  else:\n",
        "    notas = \"nota\"\n",
        "  print(f\"{dez} {notas} de R$ 10,00.\")\n",
        "\n",
        "if cinco != 0:\n",
        "  if cinco > 1:\n",
        "    notas = \"notas\"\n",
        "  else:\n",
        "    notas = \"nota\"\n",
        "  print(f\"{cinco} {notas} de R$ 5,00.\")\n",
        "\n",
        "if dois != 0:\n",
        "  if dois > 1:\n",
        "    notas = \"notas\"\n",
        "  else:\n",
        "    notas = \"nota\"\n",
        "  print(f\"{dois} {notas} de R$ 2,00.\")\n",
        "\n",
        "print ('-='*13)\n",
        "\n",
        "input('Deseja realizar o saque?[S/N] ').upper()\n",
        "\n",
        "\n",
        "print('...\\n..\\n.\\nObrigado, volte sempre!')\n",
        "  \n",
        "    \n"
      ],
      "execution_count": null,
      "outputs": [
        {
          "output_type": "stream",
          "text": [
            "Valor do saque [10-600]: R$ 587\n",
            "\n",
            "-=-=-=-=-=-=-=-=-=-=-=-=-=\n",
            "Você deseja sacar R$ 587.00.\n",
            "E irá receber:\n",
            "--------------------------\n",
            "2 notas de R$ 200,00.\n",
            "1 nota de R$ 100,00.\n",
            "1 nota de R$ 50,00.\n",
            "1 nota de R$ 20,00.\n",
            "1 nota de R$ 10,00.\n",
            "1 nota de R$ 5,00.\n",
            "1 nota de R$ 2,00.\n",
            "-=-=-=-=-=-=-=-=-=-=-=-=-=\n",
            "Deseja realizar o saque?[S/N] s\n",
            "...\n",
            "..\n",
            ".\n",
            "Obrigado, volte sempre!\n"
          ],
          "name": "stdout"
        }
      ]
    }
  ]
}