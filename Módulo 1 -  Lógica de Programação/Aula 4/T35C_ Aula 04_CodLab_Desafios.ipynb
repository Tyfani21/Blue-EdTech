{
  "cells": [
    {
      "cell_type": "markdown",
      "metadata": {
        "id": "NRhLAMa6ZfqU"
      },
      "source": [
        "## **DESAFIO 01**\n",
        "\n",
        "**Reajuste salarial**\n",
        "\n",
        "As empresas @.com resolveram dar um aumento de salário aos seus colaboradores e lhe contrataram para desenvolver o programa que calculará os reajustes.\n",
        "\n",
        "Faça um programa que recebe o salário de um colaborador e o reajuste segundo o seguinte critério, baseado no salário atual:\n",
        "* salários até R$ 280,00 (incluindo) : aumento de 20%\n",
        "\n",
        "* salários entre R\\$ 280,00 e R$ 700,00 : aumento de 15%\n",
        "\n",
        "* salários entre R\\$ 700,00 e R$ 1500,00 : aumento de 10%\n",
        "\n",
        "* salários de R$ 1500,00 em diante : aumento de 5% \n",
        "\n",
        "Após o aumento ser realizado, informe na tela:\n",
        "* o salário antes do reajuste;\n",
        "\n",
        "* o percentual de aumento aplicado;\n",
        "\n",
        "* o valor do aumento;\n",
        "\n",
        "* o novo salário, após o aumento.\""
      ]
    },
    {
      "cell_type": "code",
      "execution_count": 5,
      "metadata": {
        "colab": {
          "base_uri": "https://localhost:8080/"
        },
        "id": "VpC5oZINZXzt",
        "outputId": "93cf328a-6ad9-46e0-e140-9dc4c9a536d4"
      },
      "outputs": [
        {
          "ename": "ValueError",
          "evalue": "could not convert string to float: ''",
          "output_type": "error",
          "traceback": [
            "\u001b[1;31m---------------------------------------------------------------------------\u001b[0m",
            "\u001b[1;31mValueError\u001b[0m                                Traceback (most recent call last)",
            "\u001b[1;32m<ipython-input-5-15f2b47c2a6c>\u001b[0m in \u001b[0;36m<module>\u001b[1;34m\u001b[0m\n\u001b[1;32m----> 1\u001b[1;33m \u001b[0msalario\u001b[0m\u001b[1;33m=\u001b[0m \u001b[0mfloat\u001b[0m \u001b[1;33m(\u001b[0m\u001b[0minput\u001b[0m\u001b[1;33m(\u001b[0m\u001b[1;34m'Entre com seu salário: R$ '\u001b[0m\u001b[1;33m)\u001b[0m\u001b[1;33m.\u001b[0m\u001b[0mreplace\u001b[0m\u001b[1;33m(\u001b[0m\u001b[1;34m','\u001b[0m \u001b[1;33m,\u001b[0m \u001b[1;34m'.'\u001b[0m\u001b[1;33m)\u001b[0m\u001b[1;33m)\u001b[0m\u001b[1;33m\u001b[0m\u001b[1;33m\u001b[0m\u001b[0m\n\u001b[0m\u001b[0;32m      2\u001b[0m \u001b[1;33m\u001b[0m\u001b[0m\n\u001b[0;32m      3\u001b[0m \u001b[1;31m# percentuais\u001b[0m\u001b[1;33m\u001b[0m\u001b[1;33m\u001b[0m\u001b[1;33m\u001b[0m\u001b[0m\n\u001b[0;32m      4\u001b[0m \u001b[1;33m\u001b[0m\u001b[0m\n\u001b[0;32m      5\u001b[0m \u001b[1;32mif\u001b[0m \u001b[0msalario\u001b[0m \u001b[1;33m<=\u001b[0m \u001b[1;36m280.00\u001b[0m\u001b[1;33m:\u001b[0m\u001b[1;33m\u001b[0m\u001b[1;33m\u001b[0m\u001b[0m\n",
            "\u001b[1;31mValueError\u001b[0m: could not convert string to float: ''"
          ]
        }
      ],
      "source": [
        "salario= float (input('Entre com seu salário: R$ ').replace(',' , '.'))\n",
        "\n",
        "# percentuais\n",
        "\n",
        "if salario <= 280.00:\n",
        "  p=20\n",
        "  percentual = p1/100\n",
        "  aumento = (salario*percentual)\n",
        "  salarionovo = salario + aumento\n",
        "elif 280.01 <= salario <= 700.00:\n",
        "  p=15\n",
        "  percentual = p2/100\n",
        "  aumento = (salario*percentual)\n",
        "  salarionovo = salario + aumento\n",
        "elif 700.01 <= salario <= 1500.00:\n",
        "  p=10\n",
        "  percentual = p3/100\n",
        "  aumento = (salario*percentual)\n",
        "  salarionovo = salario + aumento\n",
        "elif salario >= 1500.01:\n",
        "  p=5\n",
        "  percentual = p4/100\n",
        "  aumento = (salario*percentual)\n",
        "  salarionovo = salario + aumento\n",
        "\n",
        "print(f'\\nSalario atual: R$ {salario}')\n",
        "print(f'Percentual de ajuste: {p}%')\n",
        "print(f'Valor do aumento: R$ {aumento} ')\n",
        "print(f'Salário novo com aumento: R$ {salarionovo} ')\n",
        "\n",
        "\n",
        "\n",
        "\n"
      ]
    },
    {
      "cell_type": "markdown",
      "metadata": {
        "id": "HvThpbU4aBGy"
      },
      "source": [
        "## **DESAFIO 02**\n",
        "\n",
        "**Jogo da adivinhação**\n",
        "\n",
        "Escreva um programa que faça o computador “pensar” em um número inteiro entre 0 e 10 e peça para o usuário tentar descobrir qual foi o número escolhido pelo computador. O programa deverá escrever na tela se o usuário venceu ou perdeu."
      ]
    },
    {
      "cell_type": "code",
      "execution_count": null,
      "metadata": {
        "colab": {
          "base_uri": "https://localhost:8080/"
        },
        "id": "ufD4OzxkaN1X",
        "outputId": "dfda771b-40ea-4de3-c9b9-1578bbe4f303"
      },
      "outputs": [
        {
          "name": "stdout",
          "output_type": "stream",
          "text": [
            "Pensei em um número, tente descobri-lo. Insira um número de 1 a 10: 5\n",
            "Você errou!\n",
            "Eu pensei no 8\n"
          ]
        }
      ],
      "source": [
        "from random import randint\n",
        "\n",
        "x = randint(0,11)\n",
        "\n",
        "entrada= int (input('Pensei em um número, tente descobri-lo. Insira um número de 1 a 10: '))\n",
        "\n",
        "if entrada == x:\n",
        "  print(f'\\nParabéns!\\nPensei no número {x}. Você acertou!')\n",
        "else:\n",
        "  print(f'\\nVocê errou!\\nEu havia pensado no número {x}.' )  "
      ]
    },
    {
      "cell_type": "markdown",
      "metadata": {
        "id": "mjLFAUooaOH1"
      },
      "source": [
        "## **Projeto da semana**\n",
        "\n",
        "**Caixa eletrônico**\n",
        "\n",
        "Faça um Programa para um caixa eletrônico. O programa deverá perguntar ao usuário a valor do saque e depois informar quantas notas de cada valor serão fornecidas. As notas disponíveis serão as de 1, 5, 10, 50 e 100 reais. O valor mínimo é de 10 reais e o máximo de 600 reais. O programa não deve se preocupar com a quantidade de notas existentes na máquina.\n",
        "\n",
        "* Exemplo 1: Para sacar a quantia de 256 reais, o programa fornece duas notas de 100, uma nota de 50, uma nota de 5 e uma nota de 1;\n",
        "\n",
        "* Exemplo 2: Para sacar a quantia de 399 reais, o programa fornece três notas de 100, uma nota de 50, quatro notas de 10, uma nota de 5 e quatro notas de 1.\n",
        "\n"
      ]
    },
    {
      "cell_type": "code",
      "execution_count": 13,
      "metadata": {
        "colab": {
          "base_uri": "https://localhost:8080/"
        },
        "id": "S7gbFodVawK1",
        "outputId": "86bf5ded-b937-4ed5-8556-a9f2082f6db9"
      },
      "outputs": [
        {
          "ename": "SyntaxError",
          "evalue": "unexpected EOF while parsing (<ipython-input-13-19a3af150b65>, line 20)",
          "output_type": "error",
          "traceback": [
            "\u001b[1;36m  File \u001b[1;32m\"<ipython-input-13-19a3af150b65>\"\u001b[1;36m, line \u001b[1;32m20\u001b[0m\n\u001b[1;33m    saque = float(input('Digite o valor do saque')\u001b[0m\n\u001b[1;37m                                                   ^\u001b[0m\n\u001b[1;31mSyntaxError\u001b[0m\u001b[1;31m:\u001b[0m unexpected EOF while parsing\n"
          ]
        }
      ],
      "source": [
        "saque = int(input('Valor do saque [10-600]: R$ '))\r\n",
        "\r\n",
        "duzentos = saque//200\r\n",
        "cem = (saque%200)//100\r\n",
        "cinquenta = ((saque%200)%100)//50\r\n",
        "vinte = (((saque%200)%100)%50)//20\r\n",
        "dez = ((((saque%200)%100)%50)%20)//10\r\n",
        "cinco = (((((saque%200)%100)%50)%20)%10)//5\r\n",
        "dois = ((((((saque%200)%100)%50)%20)%10)%5)//2\r\n",
        "\r\n",
        "print()\r\n",
        "print ('-='*13)\r\n",
        "print(f'Você deseja sacar R$ {float(saque):.2f}.\\nE irá receber:')\r\n",
        "print ('--'*13)\r\n",
        "\r\n",
        "if duzentos != 0:\r\n",
        "  if duzentos > 1:\r\n",
        "    notas = \"notas\"\r\n",
        "  else:\r\n",
        "    texto = \"nota\"\r\n",
        "  print(f\"{duzentos} {notas} de R$ 200,00.\")\r\n",
        "\r\n",
        "if cem != 0:\r\n",
        "  if cem > 1:\r\n",
        "    notas = \"notas\"\r\n",
        "  else:\r\n",
        "    notas = \"nota\"\r\n",
        "  print(f\"{cem} {notas} de R$ 100,00.\")\r\n",
        "\r\n",
        "if cinquenta != 0:\r\n",
        "  if cinquenta > 1:\r\n",
        "    notas = \"notas\"\r\n",
        "  else:\r\n",
        "    notas = \"nota\"\r\n",
        "  print(f\"{cinquenta} {notas} de R$ 50,00.\")\r\n",
        "\r\n",
        "if vinte != 0:\r\n",
        "  if vinte > 1:\r\n",
        "    notas = \"notas\"\r\n",
        "  else:\r\n",
        "    notas = \"nota\"\r\n",
        "  print(f\"{vinte} {notas} de R$ 20,00.\")\r\n",
        "\r\n",
        "if dez != 0:\r\n",
        "  if dez > 1:\r\n",
        "    notas = \"notas\"\r\n",
        "  else:\r\n",
        "    notas = \"nota\"\r\n",
        "  print(f\"{dez} {notas} de R$ 10,00.\")\r\n",
        "\r\n",
        "if cinco != 0:\r\n",
        "  if cinco > 1:\r\n",
        "    notas = \"notas\"\r\n",
        "  else:\r\n",
        "    notas = \"nota\"\r\n",
        "  print(f\"{cinco} {notas} de R$ 5,00.\")\r\n",
        "\r\n",
        "if dois != 0:\r\n",
        "  if dois > 1:\r\n",
        "    notas = \"notas\"\r\n",
        "  else:\r\n",
        "    notas = \"nota\"\r\n",
        "  print(f\"{dois} {notas} de R$ 2,00.\")\r\n",
        "\r\n",
        "print ('-='*13)\r\n",
        "\r\n",
        "input('Deseja realizar o saque?[S/N] ').upper()\r\n",
        "\r\n",
        "\r\n",
        "print('...\\n..\\n.\\nObrigado, volte sempre!')\r\n",
        "  \r\n",
        "    \r\n"
      ]
    }
  ],
  "metadata": {
    "colab": {
      "collapsed_sections": [],
      "name": "T35C CodLab 04 - Desafios.ipynb",
      "provenance": []
    },
    "interpreter": {
      "hash": "d73d52c412e47f3d9bd4976a46f2a826316c404df005240cd804ee12a38d9ff0"
    },
    "kernelspec": {
      "display_name": "Python 3.9.4 64-bit",
      "name": "python3"
    },
    "language_info": {
      "codemirror_mode": {
        "name": "ipython",
        "version": 3
      },
      "file_extension": ".py",
      "mimetype": "text/x-python",
      "name": "python",
      "nbconvert_exporter": "python",
      "pygments_lexer": "ipython3",
      "version": "3.9.4"
    }
  },
  "nbformat": 4,
  "nbformat_minor": 0
}