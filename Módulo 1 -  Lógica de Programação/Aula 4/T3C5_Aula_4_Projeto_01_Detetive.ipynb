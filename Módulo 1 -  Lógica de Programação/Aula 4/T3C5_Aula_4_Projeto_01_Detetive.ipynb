{
  "nbformat": 4,
  "nbformat_minor": 0,
  "metadata": {
    "colab": {
      "name": "T3C5 Aula 4 Projeto 01 - Detetive.ipynb",
      "provenance": [],
      "collapsed_sections": []
    },
    "kernelspec": {
      "name": "python3",
      "display_name": "Python 3"
    },
    "language_info": {
      "name": "python"
    }
  },
  "cells": [
    {
      "cell_type": "markdown",
      "metadata": {
        "id": "W3ug1vQuW1_G"
      },
      "source": [
        "Esse projeto tem a finalidade de fixar os conhecimentos de Variáveis, Print, Input e Condicionais, para isso crie um programa que faça 5 perguntas para uma\n",
        "pessoa sobre um crime. As perguntas são:\n",
        "\n",
        "* \"Você telefonou para a vítima?\"\n",
        "* \"Você esteve no local do crime?\"\n",
        "* \"Você mora perto da vítima?\"\n",
        "* \"Você devia para a vítima?\"\n",
        "* \"Você já trabalhou com a vítima?\"\n",
        "\n",
        "O programa deve, no final, emitir uma classificação sobre a participação da\n",
        "pessoa no crime. Se a pessoa responder positivamente a:\n",
        "\n",
        "* 2 questões ela deve ser classificada como \"Suspeita\",\n",
        "* Entre 3 e 4 como \"Cúmplice\"\n",
        "* 5 como \"Assassino\".\n",
        "* Caso contrário, ele será classificado como \"Inocente\".\n",
        "\n",
        "O projeto deve ser feito individualmente e entregue até o final da aula 06."
      ]
    },
    {
      "cell_type": "code",
      "metadata": {
        "colab": {
          "base_uri": "https://localhost:8080/"
        },
        "id": "CTbxzv8vvdHL",
        "outputId": "3d7afd8f-dc9d-420f-de0d-1382b4fd3ff2"
      },
      "source": [
        "r1 = int (input(\"Você telefonou para a vítima? [0-N / 1-S] \"))\n",
        "r2 = int (input(\"Você esteve no local do crime? [0-N / 1-S] \"))\n",
        "r3 = int (input(\"Você mora perto da vítima? [0-N / 1-S] \"))\n",
        "r4 = int (input(\"Você devia para a vítima? [0-N / 1-S] \"))\n",
        "r5 = int (input(\"Você já trabalhou com a vítima? [0-N / 1-S] \"))\n",
        "\n",
        "sim= r1+r2+r3+r4+r5\n",
        "\n",
        "if sim == 2:\n",
        "  print(\"\\nVocê é Você é Suspeito!\\n\")\n",
        "elif sim == 3  or sim == 4:\n",
        "  print (\"\\nVocê é Cúmplice!\\n\")\n",
        "elif  sim == 5:\n",
        "  print (\"\\nVocê é o Assassino!\\n\")\n",
        "else:\n",
        "  print(\"\\nVocê é Inocente!\\n\")\n",
        "\n"
      ],
      "execution_count": null,
      "outputs": [
        {
          "output_type": "stream",
          "text": [
            "Você telefonou para a vítima? [0-N / 1-S] 0\n",
            "Você esteve no local do crime? [0-N / 1-S] 0\n",
            "Você mora perto da vítima? [0-N / 1-S] 0\n",
            "Você devia para a vítima? [0-N / 1-S] 0\n",
            "Você já trabalhou com a vítima? [0-N / 1-S] 0\n",
            "\n",
            "Você é Inocente!\n",
            "\n"
          ],
          "name": "stdout"
        }
      ]
    },
    {
      "cell_type": "code",
      "metadata": {
        "id": "zfJFl5kSFA1U"
      },
      "source": [
        "r1 = int (input(\"Você telefonou para a vítima? [SIM / NÃO] \").upper().replace(\"SIM\",\"1\").replace(\"NÃO\",\"0\"))\n",
        "r2 = int (input(\"Você esteve no local do crime? [SIM / NÃO] \").upper().replace(\"SIM\",\"1\").replace(\"NÃO\",\"0\"))\n",
        "r3 = int (input(\"Você mora perto da vítima? [SIM / NÃO] \").upper().replace(\"SIM\",\"1\").replace(\"NÃO\",\"0\"))\n",
        "r4 = int (input(\"Você devia para a vítima? [SIM / NÃO] \").upper().replace(\"SIM\",\"1\").replace(\"NÃO\",\"0\"))\n",
        "r5 = int (input(\"Você já trabalhou com a vítima? [SIM / NÃO] \").upper().replace(\"SIM\",\"1\").replace(\"NÃO\",\"0\"))\n",
        "\n",
        "sim= r1+r2+r3+r4+r5\n",
        "\n",
        "if sim == 2:\n",
        "  print(\"\\nVocê é Você é Suspeito\\n\")\n",
        "elif sim == 3  or sim == 4:\n",
        "  print (\"\\nVocê é Cúmplice\\n\")\n",
        "elif  sim >= 5:\n",
        "  print (\"\\nVocê é o Assassino\\n\")\n",
        "else:\n",
        "  print(\"\\nVocê é Inocente\\n\")"
      ],
      "execution_count": null,
      "outputs": []
    },
    {
      "cell_type": "code",
      "metadata": {
        "id": "F2dfNbgUFJGn",
        "colab": {
          "base_uri": "https://localhost:8080/"
        },
        "outputId": "47372190-5574-44cf-addb-5c5d3b1474a0"
      },
      "source": [
        "r1 = input(\"Você telefonou para a vítima? [S/N]\").upper()\n",
        "r2 = input(\"Você esteve no local do crime? [S/N] \").upper()\n",
        "r3 = input(\"Você mora perto da vítima? [S/N] \").upper()\n",
        "r4 = input(\"Você devia para a vítima? [S/N] \").upper()\n",
        "r5 = input(\"Você já trabalhou com a vítima? [S/N] \").upper()\n",
        "\n",
        "cont = 0\n",
        "if r1 == 'S':\n",
        "  cont+=1\n",
        "if r2 == 'S':\n",
        "  cont+=1\n",
        "if r3 == 'S':\n",
        "  cont+=1\n",
        "if r4 == 'S':\n",
        "  cont+=1\n",
        "if r5 == 'S':\n",
        "  cont+=1\n",
        "\n",
        "if cont == 2:\n",
        "  print(\"\\nVocê é Você é Suspeito\\n\")\n",
        "elif cont == 3  or cont == 4:\n",
        "  print (\"\\nVocê é Cúmplice\\n\")\n",
        "elif  cont == 5:\n",
        "  print (\"\\nVocê é o Assassino\\n\")\n",
        "else:\n",
        "  print(\"\\nVocê é Inocente\\n\")\n"
      ],
      "execution_count": null,
      "outputs": [
        {
          "output_type": "stream",
          "text": [
            "Você telefonou para a vítima? [S/N]s\n",
            "Você esteve no local do crime? [S/N] n\n",
            "Você mora perto da vítima? [S/N] n\n",
            "Você devia para a vítima? [S/N] n\n",
            "Você já trabalhou com a vítima? [S/N] n\n",
            "\n",
            "Você é Inocente\n",
            "\n"
          ],
          "name": "stdout"
        }
      ]
    },
    {
      "cell_type": "code",
      "metadata": {
        "id": "Z5vMUZ1_9Kny"
      },
      "source": [
        "r1 = input(\"Você telefonou para a vítima? [S/N]\").upper()\n",
        "r2 = input(\"Você esteve no local do crime? [S/N] \").upper()\n",
        "r3 = input(\"Você mora perto da vítima? [S/N] \").upper()\n",
        "r4 = input(\"Você devia para a vítima? [S/N] \").upper()\n",
        "r5 = input(\"Você já trabalhou com a vítima? [S/N] \").upper()\n",
        "\n",
        "respostas = [r1, r2, r3, r4, r5]\n",
        "sim = 0\n",
        "\n",
        "for cont in respostas:\n",
        "  if cont == \"S\":\n",
        "    sim += 1\n",
        "    \n",
        "if sim == 2:\n",
        "  print(\"\\nVocê é Você é Suspeito\\n\")\n",
        "elif sim == 3  or sim == 4:\n",
        "  print (\"\\nVocê é Cúmplice\\n\")\n",
        "elif  sim == 5:\n",
        "  print (\"\\nVocê é o Assassino\\n\")\n",
        "else:\n",
        "  print(\"\\nVocê é Inocente\\n\")"
      ],
      "execution_count": null,
      "outputs": []
    }
  ]
}