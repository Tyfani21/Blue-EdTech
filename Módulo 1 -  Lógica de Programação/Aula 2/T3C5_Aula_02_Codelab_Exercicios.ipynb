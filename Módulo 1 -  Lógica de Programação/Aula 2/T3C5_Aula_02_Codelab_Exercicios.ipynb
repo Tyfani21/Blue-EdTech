{
  "nbformat": 4,
  "nbformat_minor": 0,
  "metadata": {
    "colab": {
      "name": "T3C5 Aula_02_Codelab_Exercicios.ipynb",
      "provenance": [],
      "collapsed_sections": []
    },
    "kernelspec": {
      "name": "python3",
      "display_name": "Python 3"
    },
    "language_info": {
      "name": "python"
    }
  },
  "cells": [
    {
      "cell_type": "markdown",
      "metadata": {
        "id": "w1T7s2q0p-pt"
      },
      "source": [
        "# Mini projetos"
      ]
    },
    {
      "cell_type": "markdown",
      "metadata": {
        "id": "meUw7PTwqC-Y"
      },
      "source": [
        "## #01 - Conversor de moedas\n",
        "\n",
        "Crie um programa que solicite um um valor em real ao usuário e converta esse valor, para:\n",
        "\n",
        "- DOLAR,\n",
        "- EURO,\n",
        "- LIBRA ESTERLINA,\n",
        "- DÓLAR CANADENSE,\n",
        "- PESO ARGENTINO,\n",
        "- PESO CHILENO.\n",
        "\n",
        "Para esse exercício você precisará realizar uma pesquisa para saber a cotação de cada moeda em real. Mostrar o resultado no formato $ XXXX.XX"
      ]
    },
    {
      "cell_type": "code",
      "metadata": {
        "colab": {
          "base_uri": "https://localhost:8080/"
        },
        "id": "oqSRRSs_PXBT",
        "outputId": "e32a52ba-b125-47e3-f61e-1c345b7aa275"
      },
      "source": [
        "real= float (input(\"Insira um valor em reais (xx.xx): R$ \"))\n",
        "\n",
        "dolar= real * 5.04\n",
        "euro=  real * 6.13\n",
        "libra= real * 7.13\n",
        "canadense= real * 4.16\n",
        "argentino= real * 0.053 \n",
        "chileno= real * 0.0070\n",
        "\n",
        "print()\n",
        "print( real ,'são',dolar, 'dólares.')\n",
        "print( real ,'são',euro, 'euros.')\n",
        "print( real ,'são',libra, 'libras.')\n",
        "print( real ,'são',canadense, 'dolares canadenses.')\n",
        "print( real ,'são',argentino, 'pesos argentinos.')\n",
        "print( real ,'são',chileno, 'pesos chilenos')"
      ],
      "execution_count": null,
      "outputs": [
        {
          "output_type": "stream",
          "text": [
            "Insira um valor em reais (xx.xx): R$ 20.00\n",
            "20.0  são  100.8  dólares.\n",
            "20.0  são  122.6  euros.\n",
            "20.0  são  142.6  libras.\n",
            "20.0  são  83.2  dolares canadenses.\n",
            "20.0  são  1.06  pesos argentinos.\n",
            "20.0  são  0.14  pesos chilenos\n"
          ],
          "name": "stdout"
        }
      ]
    },
    {
      "cell_type": "code",
      "metadata": {
        "colab": {
          "base_uri": "https://localhost:8080/"
        },
        "id": "5hHtmDQBUy3Q",
        "outputId": "cc8409d2-0134-4d75-9980-27a0cf90ce3a"
      },
      "source": [
        "real= float (input(\"Insira um valor em reais (xx.xx): R$ \"))\n",
        "\n",
        "dolar= real * 5.04\n",
        "euro=  real * 6.13\n",
        "libra= real * 7.13\n",
        "canadense= real * 4.16\n",
        "argentino= real * 0.053 \n",
        "chileno= real * 0.0070\n",
        "\n",
        "print()\n",
        "print( f'R${(real):.2f} são R$ {(dolar):.2f} dólares.')\n",
        "print( f'R${(real):.2f} são R$ {(euro):.2f} euros.')\n",
        "print( f'R${(real):.2f} são R$ {(libra):.2f} libras.')\n",
        "print( f'R${(real):.2f} são R$ {(canadense):.2f} dolares canadenses.')\n",
        "print( f'R${(real):.2f} são R$ {(argentino):.2f} pesos argentinos.')\n",
        "print( f'R${(real):.2f} são R$ {(chileno):.2f} pesos chilenos.')"
      ],
      "execution_count": null,
      "outputs": [
        {
          "output_type": "stream",
          "text": [
            "Insira um valor em reais (xx.xx): R$ 200\n",
            "\n",
            "R$200.00 são R$ 1008.00 dólares.\n",
            "R$200.00 são R$ 1226.00 euros.\n",
            "R$200.00 são R$ 1426.00 libras.\n",
            "R$200.00 são R$ 832.00 dolares canadenses.\n",
            "R$200.00 são R$ 10.60 pesos argentinos.\n",
            "R$200.00 são R$ 1.40 pesos chilenos.\n"
          ],
          "name": "stdout"
        }
      ]
    },
    {
      "cell_type": "markdown",
      "metadata": {
        "id": "KK9PIcJ4qIF9"
      },
      "source": [
        "## #02 - Calculadora de aumento de aluguel\n",
        "\n",
        "Vamos construir um programa que irá calcular o aumento anual do seu aluguel.\n",
        "\n",
        "A sua calculadora vai receber o `valor do aluguel` e calcular o aumento baseado no `IGPM de 31%`. A calculadora deve apresentar o aluguel reajustado no formato `R$ XXXX.XX`."
      ]
    },
    {
      "cell_type": "code",
      "metadata": {
        "colab": {
          "base_uri": "https://localhost:8080/"
        },
        "id": "E0G2kmcESbzs",
        "outputId": "635fd70f-7fb3-47b0-f546-3457ba4162ff"
      },
      "source": [
        "valorAluguel= float (input('Insira o valor do aluguel (xx.xx): R$ '))\n",
        "igpm= 0.3\n",
        "valorAumento= valorAluguel * igpm\n",
        "valorNovo= valorAumento + valorAluguel\n",
        "print()\n",
        "\n",
        "print(\"O valor atural é: R$\", valorAluguel)\n",
        "print(\"O aumento com base no IGPM é de: R$\", valorAumento)\n",
        "print(\"O novo valor com aumento é: R$\", valorNovo)"
      ],
      "execution_count": null,
      "outputs": [
        {
          "output_type": "stream",
          "text": [
            "Insira o valor do aluguel (xx.xx): R$ 800\n",
            "\n",
            "O valor atural é: R$ 800.0\n",
            "O aumento com base no IGPM é: R$ 240.0\n",
            "O novo valor com aumento é: R$ 1040.0\n"
          ],
          "name": "stdout"
        }
      ]
    },
    {
      "cell_type": "code",
      "metadata": {
        "colab": {
          "base_uri": "https://localhost:8080/"
        },
        "id": "Besw5IIiX5nw",
        "outputId": "731e78b0-36d0-46db-b20b-8d9d55ee71a9"
      },
      "source": [
        "valorAluguel= float (input('Insira o valor do aluguel (xx.xx): R$ '))\n",
        "igpm= 0.3\n",
        "valorAumento= valorAluguel * igpm\n",
        "valorNovo= valorAumento + valorAluguel\n",
        "print()\n",
        "\n",
        "print(f'O valor atual é R$ {(valorAluguel):.2f}.')\n",
        "print(f'O aumento com base no IGPM é de R$ {(valorAumento):.2f}.')\n",
        "print(f'O novo valor com o aumento é R$ {(valorNovo):.2f}.')"
      ],
      "execution_count": null,
      "outputs": [
        {
          "output_type": "stream",
          "text": [
            "Insira o valor do aluguel (xx.xx): R$ 800.90\n",
            "\n",
            "O valor atual é R$ 800.90.\n",
            "O aumento com base no IGPM é de R$ 240.27.\n",
            "O novo valor com o aumento é R$ 1041.17.\n"
          ],
          "name": "stdout"
        }
      ]
    }
  ]
}