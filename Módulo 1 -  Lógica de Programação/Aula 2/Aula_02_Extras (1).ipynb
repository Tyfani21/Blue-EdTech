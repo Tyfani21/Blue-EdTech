{
  "nbformat": 4,
  "nbformat_minor": 0,
  "metadata": {
    "colab": {
      "name": "Aula_02_Extras.ipynb",
      "provenance": [],
      "collapsed_sections": [
        "4ReexIAhAFbN",
        "zFj9aBNBAfLd",
        "nbOsnDXiB4Tf",
        "Z430fIZXE3Wn",
        "XtP_6lFSGVrk",
        "ARdFHWW5G_ke"
      ]
    },
    "kernelspec": {
      "name": "python3",
      "display_name": "Python 3"
    },
    "language_info": {
      "name": "python"
    }
  },
  "cells": [
    {
      "cell_type": "markdown",
      "metadata": {
        "id": "Zmfx8vBO8wR6"
      },
      "source": [
        "# **Comando Print, Variáveis e Input**"
      ]
    },
    {
      "cell_type": "markdown",
      "metadata": {
        "id": "4ReexIAhAFbN"
      },
      "source": [
        "## Comando Print\n",
        "\n",
        "> Print é uma função que imprimi na tela valores:"
      ]
    },
    {
      "cell_type": "code",
      "metadata": {
        "id": "YjlUA_szAhWD"
      },
      "source": [
        "print('Hello World')"
      ],
      "execution_count": null,
      "outputs": []
    },
    {
      "cell_type": "markdown",
      "metadata": {
        "id": "zFj9aBNBAfLd"
      },
      "source": [
        "## Variável\n",
        "\n",
        "> Variável é um espaço na memória RAM que guarda algum dado.\n",
        "\n",
        "> Em Python todas as váriáveis precisam ser inicializadas com um valor:"
      ]
    },
    {
      "cell_type": "code",
      "metadata": {
        "id": "9lZjvDRiKBQM"
      },
      "source": [
        "idade = 23 #Variável idade que recebe o valor 23\n",
        "\n",
        "print(idade) #Comando print para imprimir na tela o valor da variável idade."
      ],
      "execution_count": null,
      "outputs": []
    },
    {
      "cell_type": "markdown",
      "metadata": {
        "id": "vaw1fz7-BCVx"
      },
      "source": [
        "Tipos de variáveis:\n",
        "\n",
        "* str = Valores entre aspas\n",
        "* int = Número inteiros\n",
        "* float = Números decimais\n",
        "* bool = Valores booleanos: True ou False (sempre com a primeira letra maiúscula)\n",
        "\n",
        "> Para descobrir qual é o tipo de uma variável eu preciso execultar:"
      ]
    },
    {
      "cell_type": "code",
      "metadata": {
        "id": "zwy7soEyKJq0"
      },
      "source": [
        "idade = 23\n",
        "\n",
        "print(type(idade)) #função type que identifica o tipo da var e função print para mostrar na tela o tipo"
      ],
      "execution_count": null,
      "outputs": []
    },
    {
      "cell_type": "markdown",
      "metadata": {
        "id": "XnjTC3EIBd0G"
      },
      "source": [
        "F String:\n",
        "\n",
        "> É uma forma de escrevermos uma string com variáveis concatenadas de forma elegante:"
      ]
    },
    {
      "cell_type": "code",
      "metadata": {
        "id": "gLBw8OcWKUjZ"
      },
      "source": [
        "idade = 23\n",
        "\n",
        "print(f'Sua var idade tem o valor {idade} que é do tipo: {type(idade)}') #Entre chaves coloque valores que não são string"
      ],
      "execution_count": null,
      "outputs": []
    },
    {
      "cell_type": "markdown",
      "metadata": {
        "id": "lRjoPpltDLPE"
      },
      "source": [
        "Uma forma simples de atribuir o mesmo valor a várias variáveis é:"
      ]
    },
    {
      "cell_type": "code",
      "metadata": {
        "id": "atb1jXXlDQ4W"
      },
      "source": [
        "peso = idade = quantidade = 60\n",
        "\n",
        "print(f'Peso: {peso}, Idade: {idade}, Quantidade: {quantidade}')"
      ],
      "execution_count": null,
      "outputs": []
    },
    {
      "cell_type": "markdown",
      "metadata": {
        "id": "WwAL83jcDUcj"
      },
      "source": [
        "Você pode atribuir valores diferentes a variáveis diferentes na mesma linha:"
      ]
    },
    {
      "cell_type": "code",
      "metadata": {
        "id": "njSJCSVKDTzj"
      },
      "source": [
        "inteiro, texto, booleano, flutuante = 23, \"Olá\", True, 23.5\n",
        "\n",
        "# Para colocar cada item em uma linha é só adicionar um \\n entre as informações:\n",
        "print(f'Inteiro: {inteiro}\\nTexto: {texto}\\nBooleano: {booleano}\\nFlutuante: {flutuante}')"
      ],
      "execution_count": null,
      "outputs": []
    },
    {
      "cell_type": "markdown",
      "metadata": {
        "id": "nbOsnDXiB4Tf"
      },
      "source": [
        "## Função Input\n",
        "\n",
        "> É uma função que solicita ao usuário algum valor, ele sempre transforma o valor inserido em uma string:"
      ]
    },
    {
      "cell_type": "code",
      "metadata": {
        "id": "Pwhy755zKXVA"
      },
      "source": [
        "idade = input('Quantos anos você tem? ')\n",
        "\n",
        "print(type(idade))\n",
        "print(f'Que legal! Você tem {idade} anos')"
      ],
      "execution_count": null,
      "outputs": []
    },
    {
      "cell_type": "markdown",
      "metadata": {
        "id": "-XF5xhnqDjpP"
      },
      "source": [
        "Para mudar o tipo do valor que vai entrar no input você pode utilizar as funções:\n",
        "\n",
        "* str() - Garante o tipo string\n",
        "* int() - Altera para o tipo inteiro\n",
        "* float() - Altera para o tipo float\n",
        "\n",
        "Podemos utilizar isso para solicitar dois valores e fazer a soma deles por exemplo:"
      ]
    },
    {
      "cell_type": "code",
      "metadata": {
        "id": "_niaE3ekERtc"
      },
      "source": [
        "valor1 = int(input('Digite o primeiro valor: '))\n",
        "valor2 = int(input('Digite os egundo valor: '))\n",
        "soma = valor1 + valor2\n",
        "\n",
        "print(f'A soma de {valor1} + {valor2} é = {soma}')"
      ],
      "execution_count": null,
      "outputs": []
    },
    {
      "cell_type": "markdown",
      "metadata": {
        "id": "tTu_CWTjI946"
      },
      "source": [
        "## Primeiros Exercícios\n"
      ]
    },
    {
      "cell_type": "markdown",
      "metadata": {
        "id": "lmPZx5u4RoQZ"
      },
      "source": [
        "01 - Elabore um programa que imprima na tela a seguinte frase `Olá Mundo! Esse é o meu primeiro programa`"
      ]
    },
    {
      "cell_type": "code",
      "metadata": {
        "colab": {
          "base_uri": "https://localhost:8080/"
        },
        "id": "eG8gW27bap1-",
        "outputId": "1638b3f8-bed2-40cb-85f4-f5616cdea305"
      },
      "source": [
        "print ('Olá Mundo! Esse é o meu primeiro programa')"
      ],
      "execution_count": null,
      "outputs": [
        {
          "output_type": "stream",
          "text": [
            "Olá Mundo! Esse é o meu primeiro programa\n"
          ],
          "name": "stdout"
        }
      ]
    },
    {
      "cell_type": "markdown",
      "metadata": {
        "id": "Spj9tyYQRgXi"
      },
      "source": [
        "02 - Elabore um programa que escreve seu nome completo na primeira linha, seu endereço na segunda e o CEP e telefone na terceira.  \n",
        "\n",
        "**Exemplo:**\n",
        "```\n",
        "Nome: Bruno Fabri\n",
        "Endereço: Rua ABC\n",
        "CEP: 002220-010\n",
        "```"
      ]
    },
    {
      "cell_type": "code",
      "metadata": {
        "colab": {
          "base_uri": "https://localhost:8080/"
        },
        "id": "Yo-XFXhkawKk",
        "outputId": "fb8fe8c9-9d82-4e58-d00a-c896f67245a1"
      },
      "source": [
        "print('Nome: Yago Monteiro\\nEndereço: Rua ABC\\nCEP: 24110-002')"
      ],
      "execution_count": null,
      "outputs": [
        {
          "output_type": "stream",
          "text": [
            "Nome: Yago Monteiro\n",
            "Endereço: Rua ABC\n",
            "CEP: 24110-002\n"
          ],
          "name": "stdout"
        }
      ]
    },
    {
      "cell_type": "markdown",
      "metadata": {
        "id": "VkAAhkqYR2Tj"
      },
      "source": [
        "03 - Elabore um programa que recebe o nome de uma pessoa do terminal e mostra a seguinte mensagem: `Olá {nome}! Seja bem vindo ao fantástico mundo da programação`"
      ]
    },
    {
      "cell_type": "code",
      "metadata": {
        "colab": {
          "base_uri": "https://localhost:8080/"
        },
        "id": "MTKxpZsKbcWN",
        "outputId": "c8262c9a-18fa-4f66-cae7-2a4150d1c834"
      },
      "source": [
        "nome= input(\"Insira seu nome: \")\n",
        "print(f'Olá {nome}! Seja bem vindo ao fantástico mundo da programação')"
      ],
      "execution_count": null,
      "outputs": [
        {
          "output_type": "stream",
          "text": [
            "Insira seu nome: Yago\n",
            "Olá Yago! Seja bem vindo ao fantástico mundo da programação\n"
          ],
          "name": "stdout"
        }
      ]
    },
    {
      "cell_type": "markdown",
      "metadata": {
        "id": "uT2UBCKsQNNq"
      },
      "source": [
        "# **Operadores: Aritméticos, Relacionais e Lógicos**"
      ]
    },
    {
      "cell_type": "markdown",
      "metadata": {
        "id": "Z430fIZXE3Wn"
      },
      "source": [
        "## Operadores Aritméticos\n",
        "\n",
        "Simbolo   | Significado\n",
        "--------- | ---------\n",
        "+ | Adição\n",
        "- | Subtração\n",
        "* | Multiplicação\n",
        "/ | Divisão\n",
        "// | Divisão inteira\n",
        "** | Exponenciação\n",
        "% | Resto da divisão(mod)\n",
        "\n",
        "Agora vamos solicitar um valor para o user, para realizarmos todas essas operações, porém precisamos converter o valor do input como vimos anteriormente:"
      ]
    },
    {
      "cell_type": "code",
      "metadata": {
        "id": "LjBN25O0Qdmj"
      },
      "source": [
        "n1 = int(input('Digite o primeiro número: '))\n",
        "n2 = int(input('Digite o segundo número: '))\n",
        "\n",
        "soma = n1 + n2\n",
        "sub = n1 - n2\n",
        "mult = n1 * n2\n",
        "div = n1 / n2\n",
        "divInteira = n1 // n2\n",
        "expo = n1 ** n2\n",
        "mod = n1 % n2\n",
        "\n",
        "print(f'{n1} + {n2} = {soma}')\n",
        "print(f'{n1} - {n2} = {sub}')\n",
        "print(f'{n1} * {n2} = {mult}')\n",
        "print(f'{n1} / {n2} = {div}')\n",
        "print(f'{n1} // {n2} = {divInteira}')\n",
        "print(f'{n1} ** {n2} = {expo}')\n",
        "print(f'{n1} % {n2} = {mod}')\n"
      ],
      "execution_count": null,
      "outputs": []
    },
    {
      "cell_type": "markdown",
      "metadata": {
        "id": "yihBwIjyGMIw"
      },
      "source": [
        "Para limitar as casas decimais de uma var float precisamos aplicar essa formatação:"
      ]
    },
    {
      "cell_type": "code",
      "metadata": {
        "id": "CWkaWk7LRboQ"
      },
      "source": [
        "n1 = int(input('Digite o primeiro número: '))\n",
        "n2 = int(input('Digite o segundo número: '))\n",
        "\n",
        "div = n1 / n2\n",
        "\n",
        "print(f'{n1} / {n2} = {div:.2f}') # 2f é a quantidade de casas decimais desejadas.\n",
        "\n"
      ],
      "execution_count": null,
      "outputs": []
    },
    {
      "cell_type": "markdown",
      "metadata": {
        "id": "XtP_6lFSGVrk"
      },
      "source": [
        "## Operadores Aritméticos\n",
        "\n",
        "Simbolo   | Significado\n",
        "--------- | ---------\n",
        "> | Maior que\n",
        "< | Menor que\n",
        ">= | Maior OU igual que\n",
        "<= | Menor OU igual que\n",
        "!= | Diferente de\n",
        "== | Igual a\n",
        "\n",
        "Caracteristicas desses operadores:\n",
        "\n",
        "* Sempre retornam True ou False\n",
        "* São usados para comparar valores\n",
        "* Utilize a técnica de perguntar\n",
        "\n"
      ]
    },
    {
      "cell_type": "code",
      "metadata": {
        "id": "zv1FLJwMXuFo"
      },
      "source": [
        "n1 = int(input('Digite o primeiro número: '))\n",
        "n2 = int(input('Digite o segundo número: '))\n",
        "\n",
        "print(f'{n1} é maior que {n2}? {n1 > n2}')\n",
        "print(f'{n1} é menor que {n2}? {n1 < n2}')\n",
        "print(f'{n1} é maior ou igual que {n2}? {n1 >= n2}')\n",
        "print(f'{n1} é menor ou igual que {n2}? {n1 <= n2}')\n",
        "print(f'{n1} é diferente de {n2}? {n1 != n2}')\n",
        "print(f'{n1} é igual a {n2}? {n1 == n2}')\n"
      ],
      "execution_count": null,
      "outputs": []
    },
    {
      "cell_type": "markdown",
      "metadata": {
        "id": "ARdFHWW5G_ke"
      },
      "source": [
        "## Operadores Lógicos\n",
        "\n",
        "* and (E)\n",
        "* or  (OU)\n",
        "* not (Negação)\n",
        "\n",
        "Retorna True ou False e compara duas expreções relacionais:"
      ]
    },
    {
      "cell_type": "code",
      "metadata": {
        "id": "6TNqv-1VZfK9"
      },
      "source": [
        "n1 = 1\n",
        "n2 = 2\n",
        "n3 = 3\n",
        "n4 = 4\n",
        "\n",
        "# Vamos perguntar: n1 é maior que n2 E n3 é menor que n4?\n",
        "# A resposta só será True se TODAS as relações forem True:\n",
        "\n",
        "print(n1 > n2 and n3 < n4) # Nesse caso da False, por que n1 não é maior que n2\n",
        "\n",
        "# Vamos perguntar: n1 é maior que n2 OU n3 é menor que n4?\n",
        "# A resposta será True se ao menos UMA relação for True:\n",
        "\n",
        "print(n1 > n2 or n3 < n4) # Nesse caso da True, por que pelo menos n3 é menor que n4\n",
        "\n",
        "# O operador NOT, serve para negar o resultado da operação.\n",
        "# Ou seja, ele inverte o resultado, se for True, transforma em False e vice versa.\n",
        "\n",
        "print(not n1 > n2) # Retorna True, por que o resultado de n1 maior que n2 é False\n",
        "\n",
        "# Para negar uma operação composta de operadores relacionais e lógicos devemos usar as {}:\n",
        "\n",
        "print(not {n1 > n2 or n3 < n4}) # Aqui retornaria True, se não fosse o not.\n"
      ],
      "execution_count": null,
      "outputs": []
    },
    {
      "cell_type": "markdown",
      "metadata": {
        "id": "V4Kg2SPIS27-"
      },
      "source": [
        "## Exercicios de operadores"
      ]
    },
    {
      "cell_type": "markdown",
      "metadata": {
        "id": "9rb59HolS6s9"
      },
      "source": [
        "04 - Elabore um programa que recebe dois valores inteiros e mostra a soma desses valores\n",
        "\n",
        "**Exemplo:**\n",
        "\n",
        "```\n",
        "Primeiro Valor = 2\n",
        "Segundo Valor = 3\n",
        "Soma = 5\n",
        "```"
      ]
    },
    {
      "cell_type": "code",
      "metadata": {
        "colab": {
          "base_uri": "https://localhost:8080/"
        },
        "id": "CFWrmGwRbtCt",
        "outputId": "d064c814-c6f3-48f9-ee93-94f0985fdd8a"
      },
      "source": [
        "v1 = float (input(\"Insira um número: \"))\n",
        "v2 =  float (input(\"Insira outro número: \"))\n",
        "soma= v1 + v2\n",
        "print(f'A soma de {(v1):.2f} + {(v2):.2f} é {(soma):.2f}.')"
      ],
      "execution_count": null,
      "outputs": [
        {
          "output_type": "stream",
          "text": [
            "Insira um número: 5\n",
            "Insira outro número: 5\n",
            "A soma de 5.00 + 5.00 é 10.00.\n"
          ],
          "name": "stdout"
        }
      ]
    },
    {
      "cell_type": "markdown",
      "metadata": {
        "id": "ToLeCDCuTCtz"
      },
      "source": [
        "05 - Elabore um programa que receba 4 notas de um aluno e calcule a média dele.\n",
        "\n",
        "**Exemplo:**\n",
        "\n",
        "```\n",
        "Primeiro Nota = 7\n",
        "Segundo Nota = 8\n",
        "Terceiro Nota = 10\n",
        "Quarto Nota = 6\n",
        "\n",
        "Média = 7,75\n",
        "```"
      ]
    },
    {
      "cell_type": "code",
      "metadata": {
        "colab": {
          "base_uri": "https://localhost:8080/"
        },
        "id": "GqpaOikVd7Ov",
        "outputId": "5568f608-7f81-4eae-f6a3-ee4c810d45e8"
      },
      "source": [
        "n1= float (input(\"Insira a primeira nota: \"))\n",
        "n2= float (input(\"Insira a segunda nota: \"))\n",
        "n3= float (input(\"Insira a terceira nota: \"))\n",
        "n4= float (input(\"Insira a quarta nota: \"))\n",
        "\n",
        "media= (n1 + n2 + n3 + n4)/4\n",
        "print(f' A média das notas {(n1):.2f}, {(n2):.2f}, {(n3):.2f}, {(n4):.2f} é {(media):.2f}.')"
      ],
      "execution_count": null,
      "outputs": [
        {
          "output_type": "stream",
          "text": [
            "Insira a primeira nota: 10\n",
            "Insira a segunda nota: 9.9\n",
            "Insira a terceira nota: 5.5\n",
            "Insira a quarta nota: 6.5\n",
            " A média das notas 10.00, 9.90, 5.50,6.50 é 7.97.\n"
          ],
          "name": "stdout"
        }
      ]
    },
    {
      "cell_type": "code",
      "metadata": {
        "id": "fMdcAa1kcar5"
      },
      "source": [
        "Primeiro Nota = 7\n",
        "Segundo Nota = 8\n",
        "Terceiro Nota = 10\n",
        "Quarto Nota = 6"
      ],
      "execution_count": null,
      "outputs": []
    },
    {
      "cell_type": "markdown",
      "metadata": {
        "id": "Jc42VswpUHgb"
      },
      "source": [
        "\n",
        "\n",
        "```\n",
        "# This is formatted as code\n",
        "```\n",
        "\n",
        "06 - Elabore um programa que recebe dois valores inteiros e mostra se o primeiro valor é maior ou igual ao segundo valor\n",
        "\n",
        "**Exemplo:**\n",
        "```\n",
        "Primeiro Valor = 3\n",
        "Segundo Valor = 2\n",
        "Resultado = True\n",
        "```"
      ]
    },
    {
      "cell_type": "code",
      "metadata": {
        "colab": {
          "base_uri": "https://localhost:8080/"
        },
        "id": "kXTU4YUCfbYn",
        "outputId": "abc72a8e-0e9a-4d70-c7cb-7fbe5a4fcaa7"
      },
      "source": [
        "v1= int (input('Insira um número: '))\n",
        "v2= int (input('Insira outro número: '))\n",
        "\n",
        "print(f'{v1} é maior ou igual que {v2}: {v1>=v2}')"
      ],
      "execution_count": null,
      "outputs": [
        {
          "output_type": "stream",
          "text": [
            "Insira um número: 10\n",
            "Insira outro número: 10\n",
            "10 é maior ou igual que 10: True\n"
          ],
          "name": "stdout"
        }
      ]
    }
  ]
}