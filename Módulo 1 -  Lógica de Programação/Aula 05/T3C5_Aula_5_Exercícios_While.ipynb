{
  "nbformat": 4,
  "nbformat_minor": 0,
  "metadata": {
    "colab": {
      "name": "T3C5 Aula 5 - Exercícios While",
      "provenance": [],
      "collapsed_sections": []
    },
    "kernelspec": {
      "name": "python3",
      "display_name": "Python 3"
    },
    "language_info": {
      "name": "python"
    }
  },
  "cells": [
    {
      "cell_type": "markdown",
      "metadata": {
        "id": "Bfk6OOK7tvE5"
      },
      "source": [
        "1 - Faça um programa que leia o sexo biológico de uma pessoa, mas só aceite os valores ‘M’ ou ‘F’.\n",
        "Caso esteja errado, peça a digitação novamente até ter um valor correto."
      ]
    },
    {
      "cell_type": "code",
      "metadata": {
        "colab": {
          "base_uri": "https://localhost:8080/"
        },
        "id": "eoUcLFTbuL_m",
        "outputId": "04cb0b18-6495-4fb1-9eba-35ce9d5b23de"
      },
      "source": [
        "sexo= input('Digite seu sexo biológico [M /F]: ').upper()\n",
        "\n",
        "while sexo != \"M\" and sexo != \"F\":\n",
        "  sexo= input('Sexo inválido. Digite M para Masculino ou F para Feminino: ').upper()\n",
        "  if sexo == \"M\" and sexo == \"F\":\n",
        "    break\n"
      ],
      "execution_count": null,
      "outputs": [
        {
          "output_type": "stream",
          "text": [
            "Digite seu sexo biológico [M /F]: g\n",
            "Sexo inválido. Digite M para Masculino ou F para Feminino: h\n",
            "Sexo inválido. Digite M para Masculino ou F para Feminino: f\n"
          ],
          "name": "stdout"
        }
      ]
    },
    {
      "cell_type": "markdown",
      "metadata": {
        "id": "r3s83W_Ptxl1"
      },
      "source": [
        "2 - Escreva um programa que pede a senha uma senha ao usuário, e só sai do loop quando digitarem\n",
        "corretamente a senha. A senha é “Blue123”\n",
        "2b - Exiba quantas vezes o usuário errou a digitação."
      ]
    },
    {
      "cell_type": "code",
      "metadata": {
        "colab": {
          "base_uri": "https://localhost:8080/"
        },
        "id": "GmXXest3uMmh",
        "outputId": "b1183a02-67c9-4ba9-a87e-fbb171c056f9"
      },
      "source": [
        "entrada= input('Digite a senha: ')\n",
        "senha= \"senha\"\n",
        "\n",
        "while entrada != senha:\n",
        "  entrada= input(f'A senha {entrada} está incorreta. Tente novamente: ')\n",
        "  if entrada == senha:\n",
        "    print('A senha está correta!')\n",
        "    break "
      ],
      "execution_count": null,
      "outputs": [
        {
          "output_type": "stream",
          "text": [
            "Digite a senha: f\n",
            "A senha F está incorreta. Tente novamente: eerf\n",
            "A senha EERF está incorreta. Tente novamente: 244\n",
            "A senha 244 está incorreta. Tente novamente: senha\n",
            "Senha correta\n"
          ],
          "name": "stdout"
        }
      ]
    },
    {
      "cell_type": "markdown",
      "metadata": {
        "id": "F7EEc4TvtyMp"
      },
      "source": [
        "3 - Crie um programa que leia a idade e o sexo de várias pessoas. A cada pessoa\n",
        "cadastrada, o programa deverá perguntar se o usuário quer ou não continuar. No\n",
        "final, mostre:\n",
        "* A) Quantas pessoas tem mais de 18 anos.\n",
        "* B) Quantos homens foram cadastrados.\n",
        "* C) Quantas mulheres tem menos de 20 anos."
      ]
    },
    {
      "cell_type": "code",
      "metadata": {
        "colab": {
          "base_uri": "https://localhost:8080/"
        },
        "id": "biIr8F8MuNLl",
        "outputId": "f5c09644-ae47-41eb-d55e-545ecbb31de8"
      },
      "source": [
        "\n",
        "dezoito = 0\n",
        "homem = 0\n",
        "mulheri = 0\n",
        "\n",
        "while True:\n",
        "  idade= int (input('Quantos anos você tem? '))\n",
        "  sexo= input('Qual seu sexo? [M/F] ').upper()\n",
        "    \n",
        "  if idade > 18:\n",
        "    dezoito+=1\n",
        "  if sexo == \"F\" and idade < 20:\n",
        "    mulheri+=1\n",
        "  if sexo == \"M\":\n",
        "    homem+=1\n",
        "\n",
        "  continuar= input('Deseja continuar? [S/N] ').upper()  \n",
        "  if continuar == \"N\":\n",
        "    break\n",
        "\n",
        "print(f'\\n{dezoito} pessoas tem mais de 18 anos.')\n",
        "print(f'{homem} homens foram cadastrados.')\n",
        "print(f'{mulheri} mulheres tem menos de 20 anos')       \n",
        "\n",
        "\n"
      ],
      "execution_count": null,
      "outputs": [
        {
          "output_type": "stream",
          "text": [
            "Quantos anos você tem? 20\n",
            "Qual seu sexo? [M/F] f\n",
            "Deseja continuar? [S/N] s\n",
            "Quantos anos você tem? 20\n",
            "Qual seu sexo? [M/F] m\n",
            "Deseja continuar? [S/N] s\n",
            "Quantos anos você tem? 14\n",
            "Qual seu sexo? [M/F] f\n",
            "Deseja continuar? [S/N] n\n",
            "\n",
            "2 pessoas tem mais de 18 anos.\n",
            "0 homens foram cadastrados.\n",
            "1 mulheres tem menos de 20 anos\n"
          ],
          "name": "stdout"
        }
      ]
    },
    {
      "cell_type": "markdown",
      "metadata": {
        "id": "H3_pNISAtynT"
      },
      "source": [
        "DESAFIO:\n",
        "4 - Crie um jogo onde o computador vai “pensar” em um número entre 0 e 10. O jogador vai tentar\n",
        "adivinhar qual número foi escolhido até acertar, mostrando no final quantos palpites foram\n",
        "necessários para vencer."
      ]
    },
    {
      "cell_type": "code",
      "metadata": {
        "colab": {
          "base_uri": "https://localhost:8080/"
        },
        "id": "5dnL44xXuOTj",
        "outputId": "ce789695-430b-4101-c95b-57635b86c6dd"
      },
      "source": [
        "from random import randint\n",
        "\n",
        "\n",
        "n= randint (0,10)\n",
        "vezes= 0\n",
        "r=-1\n",
        "\n",
        "while r != n:\n",
        "  r= int (input('Pensei em um número entre 0 e 10. Tente advinha-lo: '))\n",
        "  vezes += 1\n",
        "  \n",
        "  if r == n:\n",
        "    break\n",
        "  else:\n",
        "    print ('\\nVocê errou!\\n1\n",
        "    2\n",
        "     ')\n",
        "\n",
        "print(f'\\nParabéns!\\nVocê precisou de {vezes} tentativas para descobrir.')   \n",
        "\n",
        "\n",
        "\n",
        "\n"
      ],
      "execution_count": null,
      "outputs": [
        {
          "output_type": "stream",
          "text": [
            "Pensei em um número entre 0 e 10. Tente advinha-lo: 5\n",
            "\n",
            "Você errou!\n",
            " \n",
            "Pensei em um número entre 0 e 10. Tente advinha-lo: 10\n",
            "\n",
            "Você errou!\n",
            " \n",
            "Pensei em um número entre 0 e 10. Tente advinha-lo: 9\n",
            "\n",
            "Você errou!\n",
            " \n",
            "Pensei em um número entre 0 e 10. Tente advinha-lo: 8\n",
            "\n",
            "Você errou!\n",
            " \n",
            "Pensei em um número entre 0 e 10. Tente advinha-lo: 7\n",
            "\n",
            "Você errou!\n",
            " \n",
            "Pensei em um número entre 0 e 10. Tente advinha-lo: 4\n",
            "\n",
            "Você errou!\n",
            " \n",
            "Pensei em um número entre 0 e 10. Tente advinha-lo: 6\n",
            "\n",
            "Você errou!\n",
            " \n",
            "Pensei em um número entre 0 e 10. Tente advinha-lo: 0\n",
            "\n",
            "Você errou!\n",
            " \n",
            "Pensei em um número entre 0 e 10. Tente advinha-lo: 3\n",
            "\n",
            "Parabéns!\n",
            "Você precisou de 9 tentativas para descobrir.\n"
          ],
          "name": "stdout"
        }
      ]
    }
  ]
}